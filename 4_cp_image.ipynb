{
 "cells": [
  {
   "cell_type": "markdown",
   "metadata": {},
   "source": [
    "## 將 site 的圖片資料移出"
   ]
  },
  {
   "cell_type": "code",
   "execution_count": null,
   "metadata": {},
   "outputs": [],
   "source": [
    "import pandas as pd\n",
    "import shutil\n",
    "import os\n",
    "from config import Args"
   ]
  },
  {
   "cell_type": "code",
   "execution_count": null,
   "metadata": {},
   "outputs": [],
   "source": [
    "dirs = os.listdir(Args.FL_SITE_CSV_PATH)\n",
    "count = 0\n",
    "for i, file in enumerate(dirs):\n",
    "    file_name = file.split(\".\")\n",
    "    csv_file = os.path.join(Args.FL_SITE_CSV_PATH, file)\n",
    "    output_folder = os.path.join(Args.FL_SITE_IMAGE_PATH, f\"{file_name[0]}-images\")  # 指定的資料夾\n",
    "\n",
    "    # 確保輸出資料夾存在，如果不存在就創建\n",
    "    os.makedirs(output_folder, exist_ok=True)\n",
    "\n",
    "    # 讀取CSV檔案\n",
    "    df = pd.read_csv(csv_file)\n",
    "\n",
    "    # 遍歷CSV中的每一行，並處理Image欄位\n",
    "    for index, row in df.iterrows():\n",
    "        image_id = row[\"Image\"]\n",
    "        image_path = os.path.join(Args.ALL_PNG_IMAGE, f\"{image_id}.png\")\n",
    "\n",
    "        # 如果在train_png資料夾中找到相應的PNG檔案，則複製到輸出資料夾\n",
    "        if os.path.exists(image_path):\n",
    "            output_path = os.path.join(output_folder, f\"{image_id}.png\")\n",
    "            shutil.copy(image_path, output_path)\n",
    "            print(f\"複製檔案 {image_id}.png 到 {output_folder}\")\n",
    "        else:\n",
    "            print(f\"找不到檔案 {image_id}.png\")\n",
    "\n",
    "    print(\"完成複製檔案。\")"
   ]
  },
  {
   "cell_type": "markdown",
   "metadata": {},
   "source": [
    "### 將 test 的圖片資料移出"
   ]
  },
  {
   "cell_type": "code",
   "execution_count": null,
   "metadata": {},
   "outputs": [],
   "source": [
    "csv_file = os.path.join(Args.FL_TEST_CSV_PATH, \"test_data.csv\")\n",
    "output_folder = os.path.join(Args.FL_SITE_IMAGE_PATH, \"test-images\")  # 指定的資料夾\n",
    "\n",
    "# 確保輸出資料夾存在，如果不存在就創建\n",
    "os.makedirs(output_folder, exist_ok=True)\n",
    "\n",
    "# 讀取CSV檔案\n",
    "df = pd.read_csv(csv_file)\n",
    "\n",
    "# 遍歷CSV中的每一行，並處理Image欄位\n",
    "for index, row in df.iterrows():\n",
    "    image_id = row[\"Image\"]\n",
    "    image_path = os.path.join(Args.ALL_PNG_IMAGE, f\"{image_id}.png\")\n",
    "\n",
    "    # 如果在train_png資料夾中找到相應的PNG檔案，則複製到輸出資料夾\n",
    "    if os.path.exists(image_path):\n",
    "        output_path = os.path.join(output_folder, f\"{image_id}.png\")\n",
    "        shutil.copy(image_path, output_path)\n",
    "        print(f\"複製檔案 {image_id}.png 到 {output_folder}\")\n",
    "    else:\n",
    "        print(f\"找不到檔案 {image_id}.png\")\n",
    "\n",
    "print(\"完成複製檔案。\")"
   ]
  }
 ],
 "metadata": {
  "kernelspec": {
   "display_name": "rsna38",
   "language": "python",
   "name": "python3"
  },
  "language_info": {
   "codemirror_mode": {
    "name": "ipython",
    "version": 3
   },
   "file_extension": ".py",
   "mimetype": "text/x-python",
   "name": "python",
   "nbconvert_exporter": "python",
   "pygments_lexer": "ipython3",
   "version": "3.8.18"
  },
  "orig_nbformat": 4
 },
 "nbformat": 4,
 "nbformat_minor": 2
}
